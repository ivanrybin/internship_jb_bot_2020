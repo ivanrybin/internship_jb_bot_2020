{
 "cells": [
  {
   "cell_type": "markdown",
   "metadata": {},
   "source": [
    "#### Тестовое задание на проект \"Бот-помощник для поиска решений типовых проблем\" JetBrains\n",
    "\n",
    "Выполнил: Рыбин Иван, магистратура ИТМО JB \"Software Engineering\""
   ]
  },
  {
   "cell_type": "code",
   "execution_count": 1,
   "metadata": {},
   "outputs": [],
   "source": [
    "import requests"
   ]
  },
  {
   "cell_type": "markdown",
   "metadata": {},
   "source": [
    "#### Можно сделать без токена\n",
    "\n",
    "Лимит запросов 60 в час, нам нужен только один\n",
    "\n",
    "#### Можно сделать через токен\n",
    "\n",
    "Лимит запросов 5000 в час\n",
    "\n",
    "1. Для начала необходимо создать токен аутентификации:\n",
    "\n",
    "    https://docs.github.com/en/github/authenticating-to-github/creating-a-personal-access-token\n",
    "    \n",
    "\n",
    "2. Ввести github логин в поле ***user***\n",
    "\n",
    "3. Ввести github токен из п.1 в поле ***token***"
   ]
  },
  {
   "cell_type": "code",
   "execution_count": 2,
   "metadata": {},
   "outputs": [],
   "source": [
    "user = None\n",
    "token = None"
   ]
  },
  {
   "cell_type": "code",
   "execution_count": 3,
   "metadata": {},
   "outputs": [],
   "source": [
    "# запрос к API\n",
    "def get_response(url, username=None, token=None):\n",
    "    if not username:\n",
    "        return requests.get(url=url)\n",
    "\n",
    "    return requests.get(url=url, auth=(username, token))"
   ]
  },
  {
   "cell_type": "code",
   "execution_count": 4,
   "metadata": {},
   "outputs": [],
   "source": [
    "# Сбор сообщений из json ответа\n",
    "def get_messages_from_response(json_response):\n",
    "    messages = []\n",
    "    for commit in json_response:\n",
    "        if 'commit' in commit and 'message' in commit['commit']:\n",
    "            messages.append(commit['commit']['message'])\n",
    "    return messages\n",
    "\n",
    "# Сбор топ 30 слов с учетом регистра и без (пропускаем символы и цифры)\n",
    "def get_top_30_words(messages):\n",
    "    bad_signs = ['.', ',', '!', '/', '\\\\', \"#\", '$', '%', '^', '*', '(', ')', '@', '>', '<', ' ']\n",
    "    all_words = [word for message in messages for word in message.split(' ') if word]\n",
    "    all_words = [word.strip() for word in all_words if word not in bad_signs and not word.isdigit()]\n",
    "    \n",
    "    words_any_case = dict()\n",
    "    words_lower_case = dict()\n",
    "    \n",
    "    for word in all_words:\n",
    "        if word not in words_any_case:\n",
    "            words_any_case[word] = 0   \n",
    "        if word.lower() not in words_lower_case:\n",
    "            words_lower_case[word.lower()] = 0\n",
    "            \n",
    "        words_any_case[word] += 1\n",
    "        words_lower_case[word.lower()] += 1    \n",
    "        \n",
    "    words_any_case = {k: v for k, v in list(\n",
    "                          sorted(words_any_case.items(), reverse=True, key=lambda item: item[1])\n",
    "                      )[:30]\n",
    "                     }\n",
    "    words_lower_case = {k: v for k, v in list(\n",
    "                          sorted(words_lower_case.items(), reverse=True, key=lambda item: item[1])\n",
    "                      )[:30]\n",
    "                     }\n",
    "    return words_any_case, words_lower_case\n",
    "\n",
    "def pretty_print(words):\n",
    "    print(\"{: <15} {}\".format(\"words\", \"count\"))\n",
    "    for word, cnt in words.items():\n",
    "        print(\"{: <15} {}\".format(word, cnt))"
   ]
  },
  {
   "cell_type": "code",
   "execution_count": 5,
   "metadata": {},
   "outputs": [],
   "source": [
    "# берем первые 100 коммитов с проекта Kotlin\n",
    "url = 'https://api.github.com/repos/JetBrains/kotlin/commits?per_page=100'\n",
    "response = get_response(url, user, token)"
   ]
  },
  {
   "cell_type": "code",
   "execution_count": 6,
   "metadata": {},
   "outputs": [],
   "source": [
    "content = response.json()\n",
    "messages = get_messages_from_response(content)"
   ]
  },
  {
   "cell_type": "code",
   "execution_count": 7,
   "metadata": {},
   "outputs": [
    {
     "name": "stdout",
     "output_type": "stream",
     "text": [
      "Число коммитов: 100\n",
      "Число сообщений: 100\n"
     ]
    }
   ],
   "source": [
    "print(f\"Число коммитов: {len(content)}\")\n",
    "print(f\"Число сообщений: {len(messages)}\")"
   ]
  },
  {
   "cell_type": "code",
   "execution_count": 8,
   "metadata": {},
   "outputs": [],
   "source": [
    "words_any_case, words_lower_case = get_top_30_words(messages)"
   ]
  },
  {
   "cell_type": "code",
   "execution_count": 9,
   "metadata": {},
   "outputs": [
    {
     "name": "stdout",
     "output_type": "stream",
     "text": [
      "Слова без учета регистра\n",
      "\n",
      "words           count\n",
      "for             37\n",
      "in              29\n",
      "to              27\n",
      "[ULC]           26\n",
      "the             19\n",
      "of              17\n",
      "and             15\n",
      "Fixed           15\n",
      "[FIR]           14\n",
      "from            14\n",
      "with            13\n",
      "UL              13\n",
      "Add             12\n",
      "classes         12\n",
      "not             10\n",
      "on              9\n",
      "private         9\n",
      "type            9\n",
      "FIR             9\n",
      "is              8\n",
      "Fix             8\n",
      "return          8\n",
      "Remove          8\n",
      "invalid         8\n",
      "usage           7\n",
      "remove          7\n",
      "JVM_IR:         7\n",
      "IR:             6\n",
      "types           6\n",
      "annotations     6\n"
     ]
    }
   ],
   "source": [
    "print('Слова без учета регистра\\n')\n",
    "pretty_print(words_any_case)"
   ]
  },
  {
   "cell_type": "code",
   "execution_count": 10,
   "metadata": {},
   "outputs": [
    {
     "name": "stdout",
     "output_type": "stream",
     "text": [
      "Слова с приведением к нижнему регистру\n",
      "\n",
      "words           count\n",
      "for             37\n",
      "in              29\n",
      "to              27\n",
      "[ulc]           26\n",
      "the             20\n",
      "of              17\n",
      "fixed           16\n",
      "and             15\n",
      "remove          15\n",
      "add             14\n",
      "[fir]           14\n",
      "from            14\n",
      "fix             13\n",
      "with            13\n",
      "ul              13\n",
      "classes         12\n",
      "not             10\n",
      "fir             10\n",
      "don't           9\n",
      "on              9\n",
      "private         9\n",
      "type            9\n",
      "is              8\n",
      "return          8\n",
      "invalid         8\n",
      "usage           7\n",
      "jvm_ir:         7\n",
      "ir:             6\n",
      "a               6\n",
      "types           6\n"
     ]
    }
   ],
   "source": [
    "print('Слова с приведением к нижнему регистру\\n')\n",
    "pretty_print(words_lower_case)"
   ]
  }
 ],
 "metadata": {
  "kernelspec": {
   "display_name": "Python 3",
   "language": "python",
   "name": "python3"
  },
  "language_info": {
   "codemirror_mode": {
    "name": "ipython",
    "version": 3
   },
   "file_extension": ".py",
   "mimetype": "text/x-python",
   "name": "python",
   "nbconvert_exporter": "python",
   "pygments_lexer": "ipython3",
   "version": "3.6.9"
  }
 },
 "nbformat": 4,
 "nbformat_minor": 2
}
